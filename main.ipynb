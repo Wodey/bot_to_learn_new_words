{
 "cells": [
  {
   "cell_type": "code",
   "execution_count": 11,
   "metadata": {},
   "outputs": [],
   "source": [
    "from dotenv import load_dotenv\n",
    "import os \n",
    "\n",
    "load_dotenv()\n",
    "\n",
    "OPENAI_API_KEY = os.getenv('OPENAI_API_KEY')"
   ]
  },
  {
   "cell_type": "code",
   "execution_count": 13,
   "metadata": {},
   "outputs": [],
   "source": [
    "main_word = 'galvanize'"
   ]
  },
  {
   "cell_type": "code",
   "execution_count": 66,
   "metadata": {},
   "outputs": [],
   "source": [
    "from langchain.chat_models import ChatOpenAI\n",
    "from langchain.prompts import SystemMessagePromptTemplate, HumanMessagePromptTemplate, ChatPromptTemplate\n",
    "\n",
    "chat = ChatOpenAI(temperature=0)"
   ]
  },
  {
   "cell_type": "code",
   "execution_count": 223,
   "metadata": {},
   "outputs": [],
   "source": [
    "template_sys = \"\"\"You are a bot who loves to help people to learn new words. You main adjective is to help people to memorize words. Repeat word.\n",
    "Classify the level of the word either it is a1,a2,b1,b2,c1,c2 vocabulary and add up either it is a formal, informal, business, slang vocabulary\n",
    "You should give a list that consists of one or a few meanings if the word has several meanings. Add examples as a list of lists, put in every inner list 5 examples of according meaning. \n",
    "Do not forget to add up antonyms and synonims of the word if there any. \n",
    "Output should be a valid json. It should contain following fields: word, level, classification, meaning, examples, synonyms, antonyms. If you don't have values in fields synonyms or antonyms feel free to skip them\"\"\"\n",
    "\n",
    "\n",
    "prompt_sys = SystemMessagePromptTemplate.from_template(template_sys)\n",
    "\n",
    "template_user = \"\"\"{word}\"\"\"\n",
    "\n",
    "prompt_user = HumanMessagePromptTemplate.from_template(template_user)\n",
    "\n",
    "chat_prompt = ChatPromptTemplate.from_messages([prompt_sys, prompt_user])"
   ]
  },
  {
   "cell_type": "code",
   "execution_count": 225,
   "metadata": {},
   "outputs": [],
   "source": [
    "res = chat(chat_prompt.format_messages(word='noun'))"
   ]
  },
  {
   "cell_type": "code",
   "execution_count": 226,
   "metadata": {},
   "outputs": [],
   "source": [
    "from langchain.output_parsers import PydanticOutputParser\n",
    "from pydantic import BaseModel, Field\n",
    "from typing import List "
   ]
  },
  {
   "cell_type": "code",
   "execution_count": 227,
   "metadata": {},
   "outputs": [],
   "source": [
    "class Word(BaseModel):\n",
    "    word: str = Field(description='the word itself')\n",
    "    level: str = Field(description='level of vocabulary')\n",
    "    classification: str = Field(description='either the word is formal, informal or business')\n",
    "    meaning: List[str] = Field(description='meaning of the word')\n",
    "    synonyms: List[str] = []\n",
    "    antonyms: List[str] = []\n",
    "    examples: List[List] = Field(description='list of examples of the usage of the word')\n",
    "\n",
    "parser = PydanticOutputParser(pydantic_object=Word)"
   ]
  },
  {
   "cell_type": "code",
   "execution_count": 228,
   "metadata": {},
   "outputs": [
    {
     "name": "stdout",
     "output_type": "stream",
     "text": [
      "{\n",
      "  \"word\": \"noun\",\n",
      "  \"level\": \"A1\",\n",
      "  \"classification\": \"Formal\",\n",
      "  \"meaning\": [\n",
      "    \"A word that represents a person, place, thing, or idea\",\n",
      "    \"A part of speech that typically functions as the subject or object of a sentence\"\n",
      "  ],\n",
      "  \"examples\": [\n",
      "    [\"Cat\", \"Dog\", \"House\", \"Love\", \"Friend\"],\n",
      "    [\"The cat is sleeping.\", \"I saw a dog in the park.\", \"The house is big.\", \"Love is a beautiful feeling.\", \"My friend is coming over.\"]\n",
      "  ],\n",
      "  \"synonyms\": [],\n",
      "  \"antonyms\": []\n",
      "}\n"
     ]
    }
   ],
   "source": [
    "print(res.content)"
   ]
  },
  {
   "cell_type": "code",
   "execution_count": 229,
   "metadata": {},
   "outputs": [],
   "source": [
    "output = parser.parse(res.content)"
   ]
  },
  {
   "cell_type": "code",
   "execution_count": 230,
   "metadata": {},
   "outputs": [
    {
     "data": {
      "text/plain": [
       "Word(word='noun', level='A1', classification='Formal', meaning=['A word that represents a person, place, thing, or idea', 'A part of speech that typically functions as the subject or object of a sentence'], synonyms=[], antonyms=[], examples=[['Cat', 'Dog', 'House', 'Love', 'Friend'], ['The cat is sleeping.', 'I saw a dog in the park.', 'The house is big.', 'Love is a beautiful feeling.', 'My friend is coming over.']])"
      ]
     },
     "execution_count": 230,
     "metadata": {},
     "output_type": "execute_result"
    }
   ],
   "source": [
    "output"
   ]
  },
  {
   "cell_type": "code",
   "execution_count": null,
   "metadata": {},
   "outputs": [],
   "source": []
  },
  {
   "cell_type": "code",
   "execution_count": null,
   "metadata": {},
   "outputs": [],
   "source": []
  }
 ],
 "metadata": {
  "kernelspec": {
   "display_name": "learn_words",
   "language": "python",
   "name": "learn_words"
  },
  "language_info": {
   "codemirror_mode": {
    "name": "ipython",
    "version": 3
   },
   "file_extension": ".py",
   "mimetype": "text/x-python",
   "name": "python",
   "nbconvert_exporter": "python",
   "pygments_lexer": "ipython3",
   "version": "3.11.3"
  },
  "orig_nbformat": 4
 },
 "nbformat": 4,
 "nbformat_minor": 2
}
